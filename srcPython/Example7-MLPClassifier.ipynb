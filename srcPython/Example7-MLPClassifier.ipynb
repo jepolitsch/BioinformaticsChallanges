{
 "cells": [
  {
   "cell_type": "markdown",
   "metadata": {},
   "source": [
    "# Unit2-Example7Use of Multilayer Perceptron Classifier\n",
    "## Subject: Machine Learning - MSc. Computational Biology \n",
    "Author: Esteban García-Cuesta, Departamento de Inteligencia Artificial, UPM (License CC-BY-NC)\n",
    "\n",
    "This code has been developed to be used exclusively for educational purposes.\n",
    "\n",
    "## Objectives: \n",
    "  - Learn how the Multilayer Perceptron Neural Networks Classifier works (Part I)\n",
    "  - Learn how to interpret confusion matrix results (Part II)\n",
    "  - Learn how to apply Multilayer Perceptron Neural Network Classifiers (Parts I, II)\n",
    "\n",
    "## TO-DO as homework\n",
    "  - Try different parameters of the model."
   ]
  },
  {
   "cell_type": "code",
   "execution_count": 18,
   "metadata": {},
   "outputs": [
    {
     "name": "stdout",
     "output_type": "stream",
     "text": [
      "Best estimator found by grid search:\n",
      "MLPClassifier(hidden_layer_sizes=10, max_iter=500, solver='lbfgs')\n",
      "Validation classification Accuracies:  [0.93333333 0.96666667 0.8       ]\n",
      "Mean Validation Classification Accuracy:  0.9\n",
      "The train accuracy is: 1.0\n",
      "The test accuracy is: 0.9090909090909091\n"
     ]
    }
   ],
   "source": [
    "#Part I Learn how the Multilayer Perceptron Classifier model works\n",
    "\n",
    "import pandas as pd\n",
    "import numpy as np\n",
    "from sklearn.model_selection import train_test_split\n",
    "from sklearn.neural_network import MLPClassifier\n",
    "from sklearn.model_selection import GridSearchCV\n",
    "from sklearn.model_selection import cross_val_score\n",
    "\n",
    "\n",
    "#Load the data from the zoo.csv file\n",
    "path ='zoo.csv'\n",
    "data = pd.read_csv(path)\n",
    "\n",
    "#Extract the X input data and the labels y\n",
    "X = data.iloc[:,1:17]\n",
    "y = data.iloc[:,17]\n",
    "\n",
    "#This counters are used to obtain the accuracy \"by hand\"\n",
    "contTrain = 0\n",
    "contTest = 0\n",
    "\n",
    "# Split train and test using sklearn.model_selection.train_test_split function\n",
    "XTrain, XTest, yTrain, yTest = train_test_split(X, y, test_size=0.10, random_state=np.random.randint(100,size=1)[0])\n",
    "\n",
    "#Convert pandas df to numerical arrays\n",
    "XTrain = XTrain.values\n",
    "XTest = XTest.values\n",
    "yTrain = yTrain.values\n",
    "yTest = yTest.values\n",
    "\n",
    "#Define parameters of the MLP to be checked with cross-validation\n",
    "param_grid = {'max_iter': [500, 1000, 2000],\n",
    "              'hidden_layer_sizes': [5,10,100],\n",
    "              'solver': ['lbfgs']}\n",
    "\n",
    "# Create a gridsearch using the MLP Classifier\n",
    "clf = GridSearchCV(MLPClassifier(), param_grid, cv=3)\n",
    "\n",
    "# Train the classifier using training dataset\n",
    "clf.fit(XTrain , yTrain)\n",
    "\n",
    "#Obtain in the variable model the best MLP classifier\n",
    "print(\"Best estimator found by grid search:\")\n",
    "print(clf.best_estimator_)\n",
    "model = clf.best_estimator_\n",
    "\n",
    "#Calculate the Cross-validation error durint the training step\n",
    "scores = cross_val_score(model, XTrain, yTrain, cv=3, scoring='accuracy')\n",
    "print('Validation classification Accuracies: ', + scores)\n",
    "print('Mean Validation Classification Accuracy: ', + np.mean(scores))\n",
    "\n",
    "\n",
    "# Compute the train prediction according to the model\n",
    "yhatTrain = clf.predict(XTrain)\n",
    "\n",
    "# Check the result on the train examples\n",
    "#print('Predicted value : ' + str(yhat) , ', real target : ' + str(yTrain))\n",
    "for i in range(0,len(yTrain),1) :\n",
    "    if (yhatTrain[i] == yTrain[i]):\n",
    "        contTrain = contTrain + 1\n",
    "\n",
    "# Compute the test prediction according to the model\n",
    "yhatTest = clf.predict(XTest)\n",
    "\n",
    "# Check the result on the test examples\n",
    "#print('Predicted value : ' + str(yhat) , ', real target : ' + str(yTest))\n",
    "for i in range(0,len(yTest),1) :\n",
    "    if (yhatTest[i] == yTest[i]):\n",
    "        contTest = contTest + 1\n",
    "\n",
    "\n",
    "#Return the metric of accuracy\n",
    "print('The train accuracy is: ' + str(contTrain/len(yTrain)))\n",
    "print('The test accuracy is: ' + str(contTest/len(yTest)))\n"
   ]
  },
  {
   "cell_type": "code",
   "execution_count": 19,
   "metadata": {},
   "outputs": [
    {
     "name": "stdout",
     "output_type": "stream",
     "text": [
      "----------------Train Confusion Matrix------------------\n",
      "[[38  0  0  0  0  0  0]\n",
      " [ 0 17  0  0  0  0  0]\n",
      " [ 0  0  5  0  0  0  0]\n",
      " [ 0  0  0 10  0  0  0]\n",
      " [ 0  0  0  0  4  0  0]\n",
      " [ 0  0  0  0  0  6  0]\n",
      " [ 0  0  0  0  0  0 10]]\n",
      "              precision    recall  f1-score   support\n",
      "\n",
      "           1       1.00      1.00      1.00        38\n",
      "           2       1.00      1.00      1.00        17\n",
      "           3       1.00      1.00      1.00         5\n",
      "           4       1.00      1.00      1.00        10\n",
      "           5       1.00      1.00      1.00         4\n",
      "           6       1.00      1.00      1.00         6\n",
      "           7       1.00      1.00      1.00        10\n",
      "\n",
      "    accuracy                           1.00        90\n",
      "   macro avg       1.00      1.00      1.00        90\n",
      "weighted avg       1.00      1.00      1.00        90\n",
      "\n"
     ]
    }
   ],
   "source": [
    "#Part II Learn how to interpret confusion matrix results\n",
    "\n",
    "from sklearn.metrics import classification_report,confusion_matrix\n",
    "\n",
    "#Print train confusion matrix\n",
    "print('----------------Train Confusion Matrix------------------')\n",
    "print(confusion_matrix(yTrain,yhatTrain))\n",
    "print(classification_report(yTrain,yhatTrain))\n"
   ]
  },
  {
   "cell_type": "code",
   "execution_count": 21,
   "metadata": {},
   "outputs": [
    {
     "name": "stdout",
     "output_type": "stream",
     "text": [
      "----------------Test Confusion Matrix------------------\n",
      "[[3 0 0 0 0]\n",
      " [0 3 0 0 0]\n",
      " [0 0 3 0 0]\n",
      " [0 0 0 1 1]\n",
      " [0 0 0 0 0]]\n",
      "              precision    recall  f1-score   support\n",
      "\n",
      "           1       1.00      1.00      1.00         3\n",
      "           2       1.00      1.00      1.00         3\n",
      "           4       1.00      1.00      1.00         3\n",
      "           6       1.00      0.50      0.67         2\n",
      "           7       0.00      0.00      0.00         0\n",
      "\n",
      "    accuracy                           0.91        11\n",
      "   macro avg       0.80      0.70      0.73        11\n",
      "weighted avg       1.00      0.91      0.94        11\n",
      "\n"
     ]
    },
    {
     "name": "stderr",
     "output_type": "stream",
     "text": [
      "c:\\Users\\egarc\\Documents\\UPM\\2021-2022\\Python\\Workspace\\mlenv\\lib\\site-packages\\sklearn\\metrics\\_classification.py:1308: UndefinedMetricWarning: Recall and F-score are ill-defined and being set to 0.0 in labels with no true samples. Use `zero_division` parameter to control this behavior.\n",
      "  _warn_prf(average, modifier, msg_start, len(result))\n",
      "c:\\Users\\egarc\\Documents\\UPM\\2021-2022\\Python\\Workspace\\mlenv\\lib\\site-packages\\sklearn\\metrics\\_classification.py:1308: UndefinedMetricWarning: Recall and F-score are ill-defined and being set to 0.0 in labels with no true samples. Use `zero_division` parameter to control this behavior.\n",
      "  _warn_prf(average, modifier, msg_start, len(result))\n",
      "c:\\Users\\egarc\\Documents\\UPM\\2021-2022\\Python\\Workspace\\mlenv\\lib\\site-packages\\sklearn\\metrics\\_classification.py:1308: UndefinedMetricWarning: Recall and F-score are ill-defined and being set to 0.0 in labels with no true samples. Use `zero_division` parameter to control this behavior.\n",
      "  _warn_prf(average, modifier, msg_start, len(result))\n"
     ]
    }
   ],
   "source": [
    "#Part II Learn how to interpret confusion matrix results\n",
    "\n",
    "#Print test confusion matrix\n",
    "print('----------------Test Confusion Matrix------------------')\n",
    "print(confusion_matrix(yTest,yhatTest))\n",
    "print(classification_report(yTest,yhatTest))\n"
   ]
  }
 ],
 "metadata": {
  "interpreter": {
   "hash": "441f9d3ff1c529ee1e872a15f4dc348a3c02d54fb42565189cd8283cda2528b2"
  },
  "kernelspec": {
   "display_name": "Python 3.8.10 64-bit ('mlenv': venv)",
   "name": "python3"
  },
  "language_info": {
   "codemirror_mode": {
    "name": "ipython",
    "version": 3
   },
   "file_extension": ".py",
   "mimetype": "text/x-python",
   "name": "python",
   "nbconvert_exporter": "python",
   "pygments_lexer": "ipython3",
   "version": "3.8.10"
  },
  "orig_nbformat": 4
 },
 "nbformat": 4,
 "nbformat_minor": 2
}
